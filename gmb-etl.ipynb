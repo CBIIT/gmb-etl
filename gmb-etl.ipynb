{
 "cells": [
  {
   "cell_type": "code",
   "execution_count": 1,
   "metadata": {},
   "outputs": [],
   "source": [
    "import requests\n",
    "from requests.auth import HTTPBasicAuth\n",
    "import yaml\n",
    "from bs4 import BeautifulSoup\n",
    "import pandas as pd\n",
    "import os"
   ]
  },
  {
   "cell_type": "code",
   "execution_count": 2,
   "metadata": {},
   "outputs": [
    {
     "name": "stdout",
     "output_type": "stream",
     "text": [
      "GET DATASET FROM RAVE\n"
     ]
    }
   ],
   "source": [
    "######GET DATASET FROM RAVE######\n",
    "print('GET DATASET FROM RAVE')\n",
    "config = 'gmb_config.yaml'\n",
    "with open(config) as f:\n",
    "    config = yaml.load(f, Loader = yaml.FullLoader)\n",
    "r = requests.get(config['API'], auth = HTTPBasicAuth(config['USERNAME'], config['PASSWORD']))\n",
    "data_set = r.content.decode(\"utf-8\")\n",
    "data = BeautifulSoup(data_set)"
   ]
  },
  {
   "cell_type": "code",
   "execution_count": 3,
   "metadata": {},
   "outputs": [
    {
     "name": "stdout",
     "output_type": "stream",
     "text": [
      "TRANSFORM DATASET\n"
     ]
    }
   ],
   "source": [
    "######TRANSFORM DATASET######\n",
    "print('TRANSFORM DATASET')\n",
    "data_dict = {}\n",
    "for clinicaldata in data.odm:\n",
    "    node_name = clinicaldata.subjectdata.studyeventdata.formdata['formoid']\n",
    "    subject_key = clinicaldata.subjectdata['subjectkey']\n",
    "    # add the subject key\n",
    "    subject_key_name = 'SubjectKey'\n",
    "    if node_name not in data_dict.keys():\n",
    "        data_dict[node_name] = {}\n",
    "    if node_name != 'SUBJECT':\n",
    "        if subject_key_name not in data_dict[node_name].keys():\n",
    "            data_dict[node_name][subject_key_name] = []\n",
    "        data_dict[node_name][subject_key_name].append(subject_key)\n",
    "    # add the type value\n",
    "    type = 'type'\n",
    "    if type not in data_dict[node_name].keys():\n",
    "        data_dict[node_name][type] = []\n",
    "    data_dict[node_name][type].append(node_name)\n",
    "    for itemdata in clinicaldata.subjectdata.studyeventdata.formdata.itemgroupdata:\n",
    "        itemoid = itemdata['itemoid'].split('.')\n",
    "        if itemoid[1] not in data_dict[node_name].keys():\n",
    "            data_dict[node_name][itemoid[1]] = []\n",
    "        try:\n",
    "            data_dict[node_name][itemoid[1]].append(itemdata['value'])\n",
    "        except:\n",
    "            data_dict[node_name][itemoid[1]].append(None)\n"
   ]
  },
  {
   "cell_type": "code",
   "execution_count": 4,
   "metadata": {},
   "outputs": [
    {
     "name": "stdout",
     "output_type": "stream",
     "text": [
      "PRINT DATA FILES\n"
     ]
    }
   ],
   "source": [
    "######PRINT DATA FILES######\n",
    "print('PRINT DATA FILES')\n",
    "for node_type in data_dict:\n",
    "    df = pd.DataFrame()\n",
    "    for node_key in data_dict[node_type]:\n",
    "        df[node_key] = data_dict[node_type][node_key]\n",
    "    file_name = config['OUTPUT_FOLDER'] + node_type + \".tsv\"\n",
    "    if not os.path.exists(config['OUTPUT_FOLDER']):\n",
    "        os.mkdir(config['OUTPUT_FOLDER'])\n",
    "    df.to_csv(file_name, sep = \"\\t\", index = False)"
   ]
  },
  {
   "cell_type": "code",
   "execution_count": null,
   "metadata": {},
   "outputs": [],
   "source": [
    "######VALIDATE DATA FILES######\n",
    "print('VALIDATE DATA FILES')\n",
    "with open(config['NODE_FILE']) as f:\n",
    "    model = yaml.load(f, Loader = yaml.FullLoader)\n",
    "for node in model['Nodes']:\n",
    "    if node not in data_dict.keys():\n",
    "        print(f'Data node {node} is not in the dataset.')\n",
    "    else:\n",
    "        for prop in model['Nodes'][node]['Props']:\n",
    "            if prop not in data_dict[node].keys():\n",
    "                print(f'Property {prop} from data node {node} is not in the dataset.')"
   ]
  }
 ],
 "metadata": {
  "kernelspec": {
   "display_name": "Python 3 (ipykernel)",
   "language": "python",
   "name": "python3"
  },
  "language_info": {
   "codemirror_mode": {
    "name": "ipython",
    "version": 3
   },
   "file_extension": ".py",
   "mimetype": "text/x-python",
   "name": "python",
   "nbconvert_exporter": "python",
   "pygments_lexer": "ipython3",
   "version": "3.9.9"
  },
  "varInspector": {
   "cols": {
    "lenName": 16,
    "lenType": 16,
    "lenVar": 40
   },
   "kernels_config": {
    "python": {
     "delete_cmd_postfix": "",
     "delete_cmd_prefix": "del ",
     "library": "var_list.py",
     "varRefreshCmd": "print(var_dic_list())"
    },
    "r": {
     "delete_cmd_postfix": ") ",
     "delete_cmd_prefix": "rm(",
     "library": "var_list.r",
     "varRefreshCmd": "cat(var_dic_list()) "
    }
   },
   "oldHeight": 122.852,
   "position": {
    "height": "40px",
    "left": "1522px",
    "right": "20px",
    "top": "120px",
    "width": "250px"
   },
   "types_to_exclude": [
    "module",
    "function",
    "builtin_function_or_method",
    "instance",
    "_Feature"
   ],
   "varInspector_section_display": "none",
   "window_display": false
  }
 },
 "nbformat": 4,
 "nbformat_minor": 4
}
